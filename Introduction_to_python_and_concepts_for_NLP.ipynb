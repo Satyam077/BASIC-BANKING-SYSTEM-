{
  "cells": [
    {
      "cell_type": "markdown",
      "metadata": {
        "id": "view-in-github",
        "colab_type": "text"
      },
      "source": [
        "<a href=\"https://colab.research.google.com/github/Satyam077/BASIC-BANKING-SYSTEM-/blob/main/Introduction_to_python_and_concepts_for_NLP.ipynb\" target=\"_parent\"><img src=\"https://colab.research.google.com/assets/colab-badge.svg\" alt=\"Open In Colab\"/></a>"
      ]
    },
    {
      "cell_type": "markdown",
      "id": "c0d267a7",
      "metadata": {
        "id": "c0d267a7"
      },
      "source": [
        "## Intro to print statements\n",
        "\n",
        "In Python, the print statement is used to output text to the screen. Python's print statement is a function that outputs information to the console (or wherever standard output is directed). The print function takes a variety of different arguments, which allows you to control how the information is printed and formatted. \n",
        "\n",
        "The print statement can take multiple arguments, which will be printed to the screen separated by spaces.\n",
        "\n",
        "Here is a simple example of how to use the print statement:\n"
      ]
    },
    {
      "cell_type": "code",
      "execution_count": null,
      "id": "ee79bb8b",
      "metadata": {
        "colab": {
          "base_uri": "https://localhost:8080/"
        },
        "id": "ee79bb8b",
        "outputId": "b250f006-f7bd-4682-8f46-128792814aa2"
      },
      "outputs": [
        {
          "output_type": "stream",
          "name": "stdout",
          "text": [
            "Hello, world!\n"
          ]
        }
      ],
      "source": [
        "print(\"Hello, world!\")"
      ]
    },
    {
      "cell_type": "markdown",
      "id": "48bce2de",
      "metadata": {
        "id": "48bce2de"
      },
      "source": [
        "You can also use the print statement to print variables:\n"
      ]
    },
    {
      "cell_type": "code",
      "execution_count": null,
      "id": "c0dd4e93",
      "metadata": {
        "colab": {
          "base_uri": "https://localhost:8080/"
        },
        "id": "c0dd4e93",
        "outputId": "6126324c-e9d6-4a03-c80d-24426c8c6c7a"
      },
      "outputs": [
        {
          "output_type": "stream",
          "name": "stdout",
          "text": [
            "Hello,  Yogesh\n"
          ]
        }
      ],
      "source": [
        "name = \"Yogesh\"\n",
        "print(\"Hello, \", name)"
      ]
    },
    {
      "cell_type": "code",
      "source": [
        "name = input(\"Enter your name\")\n",
        "print(\"Hello\", name)"
      ],
      "metadata": {
        "colab": {
          "base_uri": "https://localhost:8080/"
        },
        "id": "lcaobqjhnk7d",
        "outputId": "1cfa0269-662d-4308-f5f4-1bea97a709f2"
      },
      "id": "lcaobqjhnk7d",
      "execution_count": null,
      "outputs": [
        {
          "output_type": "stream",
          "name": "stdout",
          "text": [
            "Enter your nameMohit\n",
            "Hello Mohit\n"
          ]
        }
      ]
    },
    {
      "cell_type": "markdown",
      "id": "95fb056f",
      "metadata": {
        "id": "95fb056f"
      },
      "source": [
        "## What are Conditional Statements"
      ]
    },
    {
      "cell_type": "markdown",
      "id": "36c4a354",
      "metadata": {
        "id": "36c4a354"
      },
      "source": [
        "* Decision-making is as important in any programming language as it is in life.\n",
        "* Decision-making in a programming language is automated using conditional statements, in which Python evaluates the code to see if it meets the specified conditions.\n",
        "* The conditions are evaluated and processed as true or false.\n",
        "* If this is found to be true, the program is run as needed. If the condition is found to be false, the statement following the If condition is executed."
      ]
    },
    {
      "cell_type": "markdown",
      "id": "c2356e6d",
      "metadata": {
        "id": "c2356e6d"
      },
      "source": [
        "### Python has various conditional statements that are used in decision-making:-"
      ]
    },
    {
      "cell_type": "markdown",
      "id": "f165395d",
      "metadata": {
        "id": "f165395d"
      },
      "source": [
        "#### 1.) If-Statement\n",
        "* The If statement is the most fundamental decision-making statement, in which the code is executed based on whether it meets the specified condition.\n",
        "* It has a code body that only executes if the condition in the if statement is true. The statement can be a single line or a block of code."
      ]
    },
    {
      "cell_type": "markdown",
      "id": "bae468c0",
      "metadata": {
        "id": "bae468c0"
      },
      "source": [
        "##### example - 1"
      ]
    },
    {
      "cell_type": "code",
      "execution_count": null,
      "id": "f9c6e828",
      "metadata": {
        "id": "f9c6e828",
        "outputId": "04b6f98b-95bd-418e-dcf5-9d0fe27847ec",
        "colab": {
          "base_uri": "https://localhost:8080/"
        }
      },
      "outputs": [
        {
          "output_type": "stream",
          "name": "stdout",
          "text": [
            "0  is equal to zero\n",
            "This statement is true.\n"
          ]
        }
      ],
      "source": [
        "num = 9\n",
        "\n",
        "if num == 0 :\n",
        "  print(num, \" is equal to zero\")\n",
        "\n",
        "print(\"This statement is true.\")\n"
      ]
    },
    {
      "cell_type": "markdown",
      "id": "0d897417",
      "metadata": {
        "id": "0d897417"
      },
      "source": [
        "##### example - 2 "
      ]
    },
    {
      "cell_type": "code",
      "execution_count": null,
      "id": "d3f1ff44",
      "metadata": {
        "id": "d3f1ff44",
        "outputId": "8d1a4165-270b-4fd4-e2dc-b7a783e0bdfe",
        "colab": {
          "base_uri": "https://localhost:8080/"
        }
      },
      "outputs": [
        {
          "output_type": "stream",
          "name": "stdout",
          "text": [
            "b is greater than or equal to a\n"
          ]
        }
      ],
      "source": [
        "a = 170\n",
        "b = 170\n",
        "\n",
        "if b >= a:\n",
        "  print(\"b is greater than or equal to a\")\n",
        "if a > b:\n",
        "  print(\"a is greater than b\")\n",
        "\n",
        "# output : b is greater than a"
      ]
    },
    {
      "cell_type": "markdown",
      "id": "9caca859",
      "metadata": {
        "id": "9caca859"
      },
      "source": [
        "##### Task\n"
      ]
    },
    {
      "cell_type": "markdown",
      "id": "95365f53",
      "metadata": {
        "id": "95365f53"
      },
      "source": [
        "* Take two numbers as input and determine which one of the two numbers is larger than the other?\n",
        "* Write a code to check whether a number is negative, positive or zero."
      ]
    },
    {
      "cell_type": "markdown",
      "id": "6985381c",
      "metadata": {
        "id": "6985381c"
      },
      "source": [
        "#### 2.) If-Else Statement"
      ]
    },
    {
      "cell_type": "markdown",
      "id": "7dcd82fd",
      "metadata": {
        "id": "7dcd82fd"
      },
      "source": [
        "* This statement is used when both the true and false parts of a given condition are specified to be executed. \n",
        "* When the condition is true, the statement inside the if block is executed; \n",
        "* if the condition is false, the statement outside the if block is executed."
      ]
    },
    {
      "cell_type": "markdown",
      "id": "f41bcc0a",
      "metadata": {
        "id": "f41bcc0a"
      },
      "source": [
        "#### example"
      ]
    },
    {
      "cell_type": "code",
      "execution_count": 1,
      "id": "4b6bdbda",
      "metadata": {
        "id": "4b6bdbda",
        "outputId": "d86526d3-1c42-47c9-c6f1-8cfdb0b511ba",
        "colab": {
          "base_uri": "https://localhost:8080/"
        }
      },
      "outputs": [
        {
          "output_type": "stream",
          "name": "stdout",
          "text": [
            "Positive or Zero\n"
          ]
        }
      ],
      "source": [
        "num = 5\n",
        "\n",
        "if num >= 0:\n",
        "    print(\"Positive or Zero\")\n",
        "else:\n",
        "     print(\"Negative number\")"
      ]
    },
    {
      "cell_type": "markdown",
      "id": "ae131d60",
      "metadata": {
        "id": "ae131d60"
      },
      "source": [
        "#### Task:"
      ]
    },
    {
      "cell_type": "markdown",
      "id": "5e5225f3",
      "metadata": {
        "id": "5e5225f3"
      },
      "source": [
        "* Take a = 33, b = 33 and then compare using the if- else statement"
      ]
    },
    {
      "cell_type": "markdown",
      "id": "4254b8c7",
      "metadata": {
        "id": "4254b8c7"
      },
      "source": [
        "###### 3.) If…Elif..else Statement"
      ]
    },
    {
      "cell_type": "markdown",
      "id": "0ef7c4ef",
      "metadata": {
        "id": "0ef7c4ef"
      },
      "source": [
        "* In this case, the If condition is evaluated first. \n",
        "* If it is false, the Elif statement will be executed;\n",
        "* if it also comes false, the Else statement will be executed."
      ]
    },
    {
      "cell_type": "markdown",
      "id": "5f0e53c4",
      "metadata": {
        "id": "5f0e53c4"
      },
      "source": [
        "#### example"
      ]
    },
    {
      "cell_type": "code",
      "execution_count": null,
      "id": "b9e81b3a",
      "metadata": {
        "id": "b9e81b3a",
        "outputId": "e0a0f1fc-98bf-4a6e-d1d9-eeb8cf21a64e",
        "colab": {
          "base_uri": "https://localhost:8080/"
        }
      },
      "outputs": [
        {
          "output_type": "stream",
          "name": "stdout",
          "text": [
            "Negative number\n"
          ]
        }
      ],
      "source": [
        "num = -1\n",
        "if num > 0:\n",
        "    print(\"Positive number\")\n",
        "elif num == 0:\n",
        "    print(\"Zero\")\n",
        "else:\n",
        "    print(\"Negative number\")\n"
      ]
    },
    {
      "cell_type": "markdown",
      "id": "9a1b0eb4",
      "metadata": {
        "id": "9a1b0eb4"
      },
      "source": [
        "#### Task"
      ]
    },
    {
      "cell_type": "markdown",
      "id": "469dd517",
      "metadata": {
        "id": "469dd517"
      },
      "source": [
        "* Take an input,check whether it is less than, equal to or greater than 0."
      ]
    },
    {
      "cell_type": "markdown",
      "id": "17ac9863",
      "metadata": {
        "id": "17ac9863"
      },
      "source": [
        "#### 4.) Nested-If statement"
      ]
    },
    {
      "cell_type": "markdown",
      "id": "98e6357e",
      "metadata": {
        "id": "98e6357e"
      },
      "source": [
        "* A Nested IF statement is one in which an If statement is nestled inside another If statement. \n",
        "* This is used when a variable must be processed more than once.\n",
        "* If, If-else, and If…elif…else statements can be used in the program.\n",
        "* In Nested If statements, the indentation (whitespace at the beginning) to determine the scope of each statement should take precedence."
      ]
    },
    {
      "cell_type": "markdown",
      "id": "ce7ad9d6",
      "metadata": {
        "id": "ce7ad9d6"
      },
      "source": [
        "#### example"
      ]
    },
    {
      "cell_type": "code",
      "execution_count": null,
      "id": "886ff0ca",
      "metadata": {
        "id": "886ff0ca",
        "outputId": "54996d42-b96c-4984-ba20-b1ac54b721f1",
        "colab": {
          "base_uri": "https://localhost:8080/"
        }
      },
      "outputs": [
        {
          "output_type": "stream",
          "name": "stdout",
          "text": [
            "Negative number\n"
          ]
        }
      ],
      "source": [
        "num = -10\n",
        "if num >= 0:\n",
        "    if num == 0:\n",
        "        print(\"zero\")\n",
        "    else:\n",
        "        print(\"Positive number\")\n",
        "else:\n",
        "    print(\"Negative number\")\n",
        "#output: Positive number"
      ]
    },
    {
      "cell_type": "markdown",
      "id": "32948b23",
      "metadata": {
        "id": "32948b23"
      },
      "source": [
        "#### Task"
      ]
    },
    {
      "cell_type": "markdown",
      "id": "3e84b1f2",
      "metadata": {
        "id": "3e84b1f2"
      },
      "source": [
        "* Take x=10,check whether it is greater than/less than 10 & 20 using nested if statements."
      ]
    },
    {
      "cell_type": "markdown",
      "id": "cf2f8630",
      "metadata": {
        "id": "cf2f8630"
      },
      "source": [
        "### LOOPS"
      ]
    },
    {
      "cell_type": "markdown",
      "id": "63604092",
      "metadata": {
        "id": "63604092"
      },
      "source": [
        "* In a programming language, a loop is a statement that contains instructions that continually repeats until a certain condition is reached.\n",
        "* Loops help us remove the redundancy of code when a task has to be repeated several times. \n",
        "* With the use of loops, we can cut short those hundred lines of code to a few. \n",
        "* Suppose you want to print the text “Hello, World!” 10 times. \n",
        "* Rather than writing a print statement 10 times, you can make use of loops by indicating the number of repetitions needed."
      ]
    },
    {
      "cell_type": "markdown",
      "id": "2ab5d876",
      "metadata": {
        "id": "2ab5d876"
      },
      "source": [
        "### While Loop"
      ]
    },
    {
      "cell_type": "markdown",
      "id": "a93c7cd7",
      "metadata": {
        "id": "a93c7cd7"
      },
      "source": [
        "* It continually executes the statements(code) as long as the given condition is TRUE. \n",
        "* It first checks the condition and then jumps into the instructions."
      ]
    },
    {
      "cell_type": "code",
      "execution_count": null,
      "id": "d9368b5b",
      "metadata": {
        "id": "d9368b5b",
        "outputId": "14e82db9-6af9-4e24-be22-3f0608a095a9",
        "colab": {
          "base_uri": "https://localhost:8080/"
        }
      },
      "outputs": [
        {
          "output_type": "stream",
          "name": "stdout",
          "text": [
            "Hello, World!\n",
            "Hello, World!\n",
            "Hello, World!\n",
            "Hello, World!\n",
            "Hello, World!\n",
            "Hello, World!\n",
            "Hello, World!\n",
            "Hello, World!\n",
            "Hello, World!\n",
            "Hello, World!\n"
          ]
        }
      ],
      "source": [
        "num_of_times = 1\n",
        "\n",
        "while num_of_times <= 10:\n",
        "    print(\"Hello, World!\")\n",
        "    num_of_times += 1\n",
        "    #num_of_times = 10 + 1 = 11\n"
      ]
    },
    {
      "cell_type": "markdown",
      "id": "c6b4d087",
      "metadata": {
        "id": "c6b4d087"
      },
      "source": [
        "##### Task"
      ]
    },
    {
      "cell_type": "markdown",
      "id": "62626383",
      "metadata": {
        "id": "62626383"
      },
      "source": [
        "*  Create a list of all the even numbers between 1 and 10"
      ]
    },
    {
      "cell_type": "markdown",
      "id": "14160b7f",
      "metadata": {
        "id": "14160b7f"
      },
      "source": [
        "### For Loop"
      ]
    },
    {
      "cell_type": "markdown",
      "id": "49148503",
      "metadata": {
        "id": "49148503"
      },
      "source": [
        "* A for loop is used to iterate over a sequence like lists, type, dictionaries, sets, or even strings.\n",
        "* Loop statements will be executed for each item of the sequence."
      ]
    },
    {
      "cell_type": "markdown",
      "id": "abdf4d04",
      "metadata": {
        "id": "abdf4d04"
      },
      "source": [
        "#### example: Create a list of all the even numbers between 1 and 10"
      ]
    },
    {
      "cell_type": "code",
      "execution_count": null,
      "id": "42b4cee2",
      "metadata": {
        "id": "42b4cee2",
        "outputId": "ca80fcd3-acdc-4f35-ee96-7412e7dc53ff"
      },
      "outputs": [
        {
          "name": "stdout",
          "output_type": "stream",
          "text": [
            "Even Numbers:  [2, 4, 6, 8, 10]\n"
          ]
        }
      ],
      "source": [
        "even_nums = []\n",
        "for i in range(1, 11):\n",
        "    if i % 2 == 0:\n",
        "        even_nums.append(i)\n",
        "print(\"Even Numbers: \", even_nums)"
      ]
    },
    {
      "cell_type": "markdown",
      "id": "6c66cb90",
      "metadata": {
        "id": "6c66cb90"
      },
      "source": [
        "#### Task"
      ]
    },
    {
      "cell_type": "markdown",
      "id": "c8d34fa4",
      "metadata": {
        "id": "c8d34fa4"
      },
      "source": [
        "* Create a list and display all the items of it using a for loop"
      ]
    },
    {
      "cell_type": "markdown",
      "id": "6bd25c57",
      "metadata": {
        "id": "6bd25c57"
      },
      "source": [
        "# List\n",
        "\n",
        "\n",
        "\n",
        "*   What is list?\n",
        "*   How to create list?\n",
        "*   Indexing in list\n",
        "\n"
      ]
    },
    {
      "cell_type": "markdown",
      "id": "e9dab825",
      "metadata": {
        "id": "e9dab825"
      },
      "source": [
        "## What is list?\n",
        "\n",
        "List is a sequence of values of any type.\n",
        "\n",
        "Values in the list are called elements / items. \n",
        "\n",
        "List is enclosed in square brackets. You can see in the cell below, how does a list looks like:"
      ]
    },
    {
      "cell_type": "code",
      "execution_count": null,
      "id": "d4ccea42",
      "metadata": {
        "id": "d4ccea42"
      },
      "outputs": [],
      "source": [
        "#  create a list named odd_numbers and store odd numbers till 10 in it.\n",
        "odd_numbers = [1, 3, 5, 7, 9]"
      ]
    },
    {
      "cell_type": "markdown",
      "id": "c2f263c3",
      "metadata": {
        "id": "c2f263c3"
      },
      "source": [
        "Just like to print a list, you just need to put list name in side the paranthesis of `print` function."
      ]
    },
    {
      "cell_type": "code",
      "execution_count": null,
      "id": "433be4f1",
      "metadata": {
        "colab": {
          "base_uri": "https://localhost:8080/",
          "height": 34
        },
        "id": "433be4f1",
        "outputId": "798a77b8-f8be-431e-e007-1ea920daa9ad"
      },
      "outputs": [
        {
          "name": "stdout",
          "output_type": "stream",
          "text": [
            "[1, 3, 5, 7, 9]\n"
          ]
        }
      ],
      "source": [
        "# print odd_number list\n",
        "print(odd_numbers)"
      ]
    },
    {
      "cell_type": "markdown",
      "id": "acfbbdf5",
      "metadata": {
        "id": "acfbbdf5"
      },
      "source": [
        "List can have more than one type too. In the cell below, list has value of 4 different data types:\n",
        "*   String - `'One'`\n",
        "*   Integer - `2`\n",
        "*   Float - `3.0`\n",
        "*   Boolean - `True`\n"
      ]
    },
    {
      "cell_type": "code",
      "execution_count": null,
      "id": "55a200e2",
      "metadata": {
        "colab": {
          "base_uri": "https://localhost:8080/",
          "height": 34
        },
        "id": "55a200e2",
        "outputId": "23b13ed4-7c3c-4798-aa50-3936121b7b61"
      },
      "outputs": [
        {
          "name": "stdout",
          "output_type": "stream",
          "text": [
            "['One', 2, 3.0, True]\n"
          ]
        }
      ],
      "source": [
        "# create a list of various type of values\n",
        "random_list = ['One', 2, 3.0, True]\n",
        "\n",
        "# print the random_list\n",
        "print(random_list)"
      ]
    },
    {
      "cell_type": "markdown",
      "id": "3d0aef3f",
      "metadata": {
        "id": "3d0aef3f"
      },
      "source": [
        "### Create an empty list\n",
        "\n",
        "As it's name suggests, empty list contains no elements.\n",
        "\n",
        "\n",
        "To create a list, just like variables, write list name on the left, values on the right wrapped in square brackets. Since, it's an empty list it does not have any elements, hence leave the square brackets empty.\n",
        "\n",
        "Syntax:\n",
        " \n",
        "```\n",
        "  empty_list = []\n",
        "```"
      ]
    },
    {
      "cell_type": "markdown",
      "id": "802ca261",
      "metadata": {
        "id": "802ca261"
      },
      "source": [
        "### Example"
      ]
    },
    {
      "cell_type": "code",
      "execution_count": null,
      "id": "7a2a870a",
      "metadata": {
        "colab": {
          "base_uri": "https://localhost:8080/",
          "height": 35
        },
        "id": "7a2a870a",
        "outputId": "a83e1e8c-4a15-4580-90db-02c9ba637787"
      },
      "outputs": [
        {
          "name": "stdout",
          "output_type": "stream",
          "text": [
            "[]\n"
          ]
        }
      ],
      "source": [
        "# create an empty list and name it \"names\" and then print \"names\" list\n",
        "\n",
        "names = []\n",
        "\n",
        "print(names)"
      ]
    },
    {
      "cell_type": "markdown",
      "id": "7c4630c7",
      "metadata": {
        "id": "7c4630c7"
      },
      "source": [
        "### Create a list\n",
        "\n",
        "To create a list, just like variables, write list name on the left, values on the right wrapped in square brackets. Unlike, empty list you can provide elements in square bracket, which you wish to add in the list.\n",
        "\n",
        "  Syntax to create a list from given elements.\n",
        "```\n",
        "  list_name = [element_1, element_2, element_3, ..., element_N]\n",
        "```\n"
      ]
    },
    {
      "cell_type": "markdown",
      "id": "defa31c2",
      "metadata": {
        "id": "defa31c2"
      },
      "source": [
        "### Example"
      ]
    },
    {
      "cell_type": "code",
      "execution_count": null,
      "id": "e37a7e84",
      "metadata": {
        "colab": {
          "base_uri": "https://localhost:8080/",
          "height": 35
        },
        "id": "e37a7e84",
        "outputId": "20069b7a-dbb4-46cb-8da2-8fc6dd430731"
      },
      "outputs": [
        {
          "name": "stdout",
          "output_type": "stream",
          "text": [
            "['China', 'Singapore', 'Australia', 'UK', 'Canada']\n"
          ]
        }
      ],
      "source": [
        "# Create a list of countried you have visited and name it as \"countries_visited\" and print the list.\n",
        "\n",
        "countries_visited = [\"China\", \"Singapore\", \"Australia\", \"UK\", \"Canada\"]\n",
        "\n",
        "print(countries_visited)"
      ]
    },
    {
      "cell_type": "markdown",
      "id": "30fbac29",
      "metadata": {
        "id": "30fbac29"
      },
      "source": [
        "## Indexing in list\n",
        "\n",
        "Index means place of an element or item in the list. Indexing is very useful when you wish to access only certain elements from the list. In the list below, you can see that we've created a list called `avengers`. Along with list, index is also shown to demonstrate how indexing works in Python.\n",
        "\n",
        "Note: While creating a list, you don't need to write index for list, it's automatically done by Python.\n",
        "\n",
        "```\n",
        "avengers= [“Captain America”, “Iron Man”, “Hulk”, “Hawk Eye”, “Thor”]\n",
        "\n",
        "index              0              1         2         3          4\n",
        "```\n",
        "\n",
        "In Python, we start counting from 0. Hence, index of Captain America would be 0 and index of Iron Man would be 1 and so on."
      ]
    },
    {
      "cell_type": "markdown",
      "id": "626b6ef3",
      "metadata": {
        "id": "626b6ef3"
      },
      "source": [
        "### Example"
      ]
    },
    {
      "cell_type": "markdown",
      "id": "e9ab6ecc",
      "metadata": {
        "id": "e9ab6ecc"
      },
      "source": [
        "1. Create a list of avengers and add your favorite avengers in it."
      ]
    },
    {
      "cell_type": "code",
      "execution_count": null,
      "id": "1e63a6ca",
      "metadata": {
        "id": "1e63a6ca"
      },
      "outputs": [],
      "source": [
        "# create a list of avengers\n",
        "avengers= [\"Wanda\", \"Iron Man\", \"Falcon\", \"Hawk Eye\", \"Hulk\"]"
      ]
    },
    {
      "cell_type": "markdown",
      "id": "5516fdb2",
      "metadata": {
        "id": "5516fdb2"
      },
      "source": [
        "### Accessing element using index\n",
        "\n",
        "Syntax to access an element from list at given index.\n",
        "```\n",
        "  list_name[index]\n",
        "```"
      ]
    },
    {
      "cell_type": "markdown",
      "id": "b2e521d6",
      "metadata": {
        "id": "b2e521d6"
      },
      "source": [
        "### Example\n",
        "\n",
        "Print `Captain America` from avengers list using indexing."
      ]
    },
    {
      "cell_type": "code",
      "execution_count": null,
      "id": "9223947b",
      "metadata": {
        "colab": {
          "base_uri": "https://localhost:8080/",
          "height": 34
        },
        "id": "9223947b",
        "outputId": "0b361a47-2623-411e-cf02-377d453bd2d9"
      },
      "outputs": [
        {
          "name": "stdout",
          "output_type": "stream",
          "text": [
            "Wanda\n"
          ]
        }
      ],
      "source": [
        "# print \"Captain America\" from avengers list using index\n",
        "\n",
        "print(avengers[0])"
      ]
    },
    {
      "cell_type": "code",
      "execution_count": null,
      "id": "a4842a1e",
      "metadata": {
        "colab": {
          "base_uri": "https://localhost:8080/",
          "height": 34
        },
        "id": "a4842a1e",
        "outputId": "6898f998-0880-433b-8491-aee4956e83d2"
      },
      "outputs": [
        {
          "name": "stdout",
          "output_type": "stream",
          "text": [
            "Hawk Eye\n"
          ]
        }
      ],
      "source": [
        "# print an element at index 3 from avengers list\n",
        "\n",
        "print(avengers[3])"
      ]
    },
    {
      "cell_type": "markdown",
      "id": "b0aa3032",
      "metadata": {
        "id": "b0aa3032"
      },
      "source": [
        "### Extra"
      ]
    },
    {
      "cell_type": "markdown",
      "id": "6d1c1f58",
      "metadata": {
        "id": "6d1c1f58"
      },
      "source": [
        "Indexing can also be used to access elements and save it as a variable."
      ]
    },
    {
      "cell_type": "code",
      "execution_count": null,
      "id": "834d3cd9",
      "metadata": {
        "colab": {
          "base_uri": "https://localhost:8080/",
          "height": 34
        },
        "id": "834d3cd9",
        "outputId": "d25d5d3b-4b9e-49a9-f1eb-f459608c2259"
      },
      "outputs": [
        {
          "name": "stdout",
          "output_type": "stream",
          "text": [
            "Wanda\n"
          ]
        }
      ],
      "source": [
        "vis = avengers[0]\n",
        "\n",
        "print(vis)"
      ]
    },
    {
      "cell_type": "markdown",
      "id": "0e944998",
      "metadata": {
        "id": "0e944998"
      },
      "source": [
        "### Update element using index\n",
        "\n",
        "Sometimes we want to update only specific element in list, using indexing you can achieve that. Let's see how to do that. \n",
        "\n",
        "Syntax \n",
        "```\n",
        "  list_name[index] = new_value\n",
        "```"
      ]
    },
    {
      "cell_type": "markdown",
      "id": "2f6a4d44",
      "metadata": {
        "id": "2f6a4d44"
      },
      "source": [
        "### Example"
      ]
    },
    {
      "cell_type": "markdown",
      "id": "51bb51ca",
      "metadata": {
        "id": "51bb51ca"
      },
      "source": [
        "1. In avengers list, update `Hawk Eye` to `Spider Man`.\n"
      ]
    },
    {
      "cell_type": "code",
      "execution_count": null,
      "id": "37b18277",
      "metadata": {
        "colab": {
          "base_uri": "https://localhost:8080/",
          "height": 34
        },
        "id": "37b18277",
        "outputId": "fd20974c-8e5b-4143-b117-c307d029518b"
      },
      "outputs": [
        {
          "name": "stdout",
          "output_type": "stream",
          "text": [
            "['Wanda', 'Iron Man', 'Falcon', 'Hawk Eye', 'Hulk']\n"
          ]
        }
      ],
      "source": [
        "# create a list of avengers\n",
        "avengers= [\"Wanda\", \"Iron Man\", \"Falcon\", \"Hawk Eye\", \"Hulk\"]\n",
        "\n",
        "# print avengers list\n",
        "print(avengers)"
      ]
    },
    {
      "cell_type": "markdown",
      "id": "d5e12135",
      "metadata": {
        "id": "d5e12135"
      },
      "source": [
        "In order to update the element, we need to find the index of the element `Thor`. \n",
        "\n",
        "Index of `Thor` is 4, hence we need to update the element at index 4, and new element will be `Spider Man`. As per the syntax, first comes list name which is `avengers` followed by square brackets in which you need to enter the index at which you want to update the element. After the equals sign, enter new element which is `Spider Man`."
      ]
    },
    {
      "cell_type": "code",
      "execution_count": null,
      "id": "4d8d1050",
      "metadata": {
        "id": "4d8d1050"
      },
      "outputs": [],
      "source": [
        "# in avengers list, update Thor with Spider Man using indexing\n",
        "avengers[3] = \"Spider Man\""
      ]
    },
    {
      "cell_type": "markdown",
      "id": "90262532",
      "metadata": {
        "id": "90262532"
      },
      "source": [
        "Now let's checkout the updated list."
      ]
    },
    {
      "cell_type": "code",
      "execution_count": null,
      "id": "8251771c",
      "metadata": {
        "colab": {
          "base_uri": "https://localhost:8080/",
          "height": 35
        },
        "id": "8251771c",
        "outputId": "7cf65b74-ca81-48cc-8510-41f8ae248a85"
      },
      "outputs": [
        {
          "name": "stdout",
          "output_type": "stream",
          "text": [
            "['Wanda', 'Iron Man', 'Falcon', 'Spider Man', 'Hulk']\n"
          ]
        }
      ],
      "source": [
        "# print avengers list\n",
        "print(avengers)"
      ]
    },
    {
      "cell_type": "markdown",
      "id": "7d339720",
      "metadata": {
        "id": "7d339720"
      },
      "source": [
        "Can you see the different between old list and updated list?\n",
        "\n",
        "\n",
        "4th element of the list is changed to \"Spider Man\". If you run old list cell again, it'll print updated list only, because we updated the list and saved it in the memory. "
      ]
    },
    {
      "cell_type": "code",
      "execution_count": null,
      "id": "MSWPTR9nbfi7",
      "metadata": {
        "id": "MSWPTR9nbfi7"
      },
      "outputs": [],
      "source": []
    },
    {
      "cell_type": "code",
      "execution_count": null,
      "id": "GZxz-h4Kbfrc",
      "metadata": {
        "id": "GZxz-h4Kbfrc"
      },
      "outputs": [],
      "source": []
    },
    {
      "cell_type": "markdown",
      "id": "7a73851d",
      "metadata": {
        "id": "7a73851d"
      },
      "source": [
        "## What are functions?\n",
        "\n",
        "#### **In this part, the topics covered are:**\n",
        "\n",
        "1. What are function?\n",
        "2. Why are they used?\n",
        "3. Defining Functions\n",
        "4. Function with parameters\n",
        "\n",
        "\n",
        "## What are functions?\n",
        "A function is a block of code that takes one or more input values and produces an output value. \n",
        "Functions are used to modularize code so that it is easier to read and maintain. Functions can also be reused, which saves time and makes code more reliable.\n",
        "\n",
        "## Why are they used?\n",
        "Python functions are used to modularize code and make it more readable. Functions can take arguments and return values, which makes them more flexible than other code structures like loops and if-statements. Functions can also be defined in other files and imported into the current file, which makes code reuse easier.\n",
        "\n",
        "## Defining Functions\n",
        "Functions are defined by **def** keyword in python. Functions in python return the result of the operation we perform inside the function. For example, if we want to do addition, the return value would be the sum of numbers.\n",
        "\n",
        "Let us look at an example."
      ]
    },
    {
      "cell_type": "code",
      "execution_count": null,
      "id": "5536d266",
      "metadata": {
        "colab": {
          "base_uri": "https://localhost:8080/"
        },
        "id": "5536d266",
        "outputId": "fb1cf9c4-982a-4ef8-f780-9eb1a37f0896"
      },
      "outputs": [
        {
          "name": "stdout",
          "output_type": "stream",
          "text": [
            "7\n"
          ]
        }
      ],
      "source": [
        "# Let us define function\n",
        "def addition():\n",
        "    a = 3\n",
        "    b = 4\n",
        "    c = a+b\n",
        "    return c\n",
        "\n",
        "# We are calling the function\n",
        "sum = addition()\n",
        "print(sum)"
      ]
    },
    {
      "cell_type": "markdown",
      "id": "07e1304d",
      "metadata": {
        "id": "07e1304d"
      },
      "source": [
        "In the above cell, *addition* is the name of function. This function is used to add two numbers and return the results. \n",
        "\n",
        "If we look at the return value of fuction, it returns **c**, and **c** is the sum of two numbers **a** and **b**. \n",
        "\n",
        "Suppose, you want to do addition 1000 times in your program, you can keep calling the function numerous times and it will give you addition of numbers."
      ]
    },
    {
      "cell_type": "markdown",
      "id": "93700ab4",
      "metadata": {
        "id": "93700ab4"
      },
      "source": [
        "The example we saw above, was *function without parameters*. Now, what are parameters and where do we use them?\n",
        "\n",
        "## Function with parameters\n",
        "\n",
        "Let's say you want to add 2 numbers in your program for 100 times. And during each addition, we have 2 unique number, for example first time you want to add 2 and 3, then 4 and 5 then 7 and 10 and so on. What then? So, we provide parameters to our function. Let us understand by an example."
      ]
    },
    {
      "cell_type": "code",
      "execution_count": null,
      "id": "e2b62960",
      "metadata": {
        "colab": {
          "base_uri": "https://localhost:8080/"
        },
        "id": "e2b62960",
        "outputId": "2ea7f623-191b-49b0-b48d-dd6518eb26b5"
      },
      "outputs": [
        {
          "name": "stdout",
          "output_type": "stream",
          "text": [
            "9\n",
            "24\n",
            "189\n"
          ]
        }
      ],
      "source": [
        "# defining function with parameters\n",
        "def addition_parameters(number1, number2):\n",
        "    c = number1 + number2\n",
        "    return c\n",
        "\n",
        "# calling function and passing parameters\n",
        "sum_new = addition_parameters(5,4)\n",
        "print(sum_new)\n",
        "\n",
        "sum_new1 = addition_parameters(10,14)\n",
        "print(sum_new1)\n",
        "\n",
        "sum_new2 = addition_parameters(101,88)\n",
        "print(sum_new2)"
      ]
    },
    {
      "cell_type": "markdown",
      "id": "a94851f1",
      "metadata": {
        "id": "a94851f1"
      },
      "source": [
        "If you watch closely, after defining our function named **addition_parameters** we write **number1 and number2**. These are the parameters that we pass to our function.\n",
        "\n",
        "Similarly, since the value of these parameters is not defined, while calling the function, we pass the values. So if you see the variable **sum_new**, we can see we pass 5 and 4. So, python understands that number1 is 5 and number2 is 4, hence we get the sum as 9 in our first output. \n",
        "\n",
        "\n",
        "We can vary the number of parameters to any number we want, let's make a function with 5 parameters to do some basic operations."
      ]
    },
    {
      "cell_type": "markdown",
      "id": "7cb274b9",
      "metadata": {
        "id": "7cb274b9"
      },
      "source": [
        "##### example - 1"
      ]
    },
    {
      "cell_type": "code",
      "execution_count": null,
      "id": "12659075",
      "metadata": {
        "colab": {
          "base_uri": "https://localhost:8080/"
        },
        "id": "12659075",
        "outputId": "12e8b42a-83f4-476d-a7cb-163e66818e73"
      },
      "outputs": [
        {
          "name": "stdout",
          "output_type": "stream",
          "text": [
            "8\n"
          ]
        }
      ],
      "source": [
        "def operations(parameter1,parameter2,parameter3, parameter4,parameter5):\n",
        "    c = parameter1 + parameter2 * parameter3 - parameter4 + parameter5\n",
        "    return c\n",
        "\n",
        "result = operations(1,2,3,4,5)\n",
        "print(result)"
      ]
    },
    {
      "cell_type": "markdown",
      "id": "232c8e11",
      "metadata": {
        "id": "232c8e11"
      },
      "source": [
        "As you can see, we passed 5 parameters and did some operation which had addition, subtraction and multiplication all together! \n",
        "\n",
        "\n",
        "#### Challenge task \n",
        "***Define a function named \"my_function\", which takes 3 parameters. Multiply all these parameters, return the value and print it. Call the function 2 times and pass different value of parameters each time.***"
      ]
    },
    {
      "cell_type": "markdown",
      "id": "acbe09ab",
      "metadata": {
        "id": "acbe09ab"
      },
      "source": [
        "## Lambda Functions\n",
        "\n",
        "#### **In this part, the topics covered are:**\n",
        "\n",
        "1. What are lambda functions?\n",
        "2. Why are they used?\n",
        "3. Defining Lambda Functions\n",
        "4. Lambda Function with parameters\n",
        "\n",
        "## What are lambda functions?\n",
        "We use the keyword **lambda** to declare an anonymous function. These functions do not have a name. A lambda function looks different from a function that is declared using the keyword **def** but they behave in the same manner.\n",
        "\n",
        "## Why are they used?\n",
        "We use **lambda** functions when we need a function for a short period of time. This makes it efficient and there is no need to declare a name for the function. If we use a function that is declared by def then it will stay and occupy space in the memory.\n",
        "\n",
        "Lambda functions are usually used when we want to pass a function as an parameter to a higher-order function."
      ]
    },
    {
      "cell_type": "markdown",
      "id": "04b33955",
      "metadata": {
        "id": "04b33955"
      },
      "source": [
        "## Defining Lambda Functions\n",
        "\n",
        "Like we had *def* while defining functions, we have *lambda* while we define lambda functions."
      ]
    },
    {
      "cell_type": "markdown",
      "id": "24f7ebf7",
      "metadata": {
        "id": "24f7ebf7"
      },
      "source": [
        "##### example - 1"
      ]
    },
    {
      "cell_type": "code",
      "execution_count": null,
      "id": "f3d0f25a",
      "metadata": {
        "colab": {
          "base_uri": "https://localhost:8080/"
        },
        "id": "f3d0f25a",
        "outputId": "09d1a99f-64b6-4c33-f5ed-34a334935a19"
      },
      "outputs": [
        {
          "name": "stdout",
          "output_type": "stream",
          "text": [
            "357\n"
          ]
        }
      ],
      "source": [
        "addition = lambda num_1, num_2, num_3, num_4 : num_1 + num_2 + num_3 + num_4\n",
        "print(addition(22,331,1,3))"
      ]
    },
    {
      "cell_type": "markdown",
      "id": "33264d7f",
      "metadata": {
        "id": "33264d7f"
      },
      "source": [
        "If you look carefully, we follow a similar approach, we define the functions, keep some parameters and have a value.\n",
        "\n",
        "The major difference is, we don't have to return the value, it gets saved in the variable directly, in the example above, everything got stored into **addition**\n",
        "\n",
        "Let us look at one more lambda function that calculates exponential of two numbers."
      ]
    },
    {
      "cell_type": "code",
      "execution_count": null,
      "id": "b6830fdd",
      "metadata": {
        "colab": {
          "base_uri": "https://localhost:8080/"
        },
        "id": "b6830fdd",
        "outputId": "9785c112-3944-425c-8bf9-622e7294e6f0"
      },
      "outputs": [
        {
          "name": "stdout",
          "output_type": "stream",
          "text": [
            "11.521534126785717\n"
          ]
        }
      ],
      "source": [
        "exponential = lambda num1, num2 : num1 ** num2\n",
        "print(exponential(2.2, 3.1))"
      ]
    },
    {
      "cell_type": "markdown",
      "id": "2cd2c208",
      "metadata": {
        "id": "2cd2c208"
      },
      "source": [
        "#### Challenge task \n",
        "***Define a lamba function with variable name \"operations\", give 4 parameters and perform any addition, substraction, multiplication, division operations.***"
      ]
    },
    {
      "cell_type": "markdown",
      "id": "2a485e95",
      "metadata": {
        "id": "2a485e95"
      },
      "source": [
        "## Introduction to Python Packages\n",
        "\n",
        "#### **In this part, the topics covered are:**\n",
        "\n",
        "1. What are python packages?\n",
        "2. How are they useful and make code efficient?\n",
        "\n",
        "## What are python packages?\n",
        "Python packages are collections of modules that you can import into your Python scripts. Packages provide a way to structure our code in a better way and keep it efficient. Packages also help us save a lot of time, we can use existing packages and get our work done quickly rather than writing everything from scratch. \n",
        "\n",
        "We use packages because they allow us to modularize our code. That is, we can break our code up into smaller pieces that are easier to understand and maintain. Additionally, packages make it easy to reuse code that we have already written. Finally, packages allow us to share our code with others.\n",
        "\n",
        "Let us understand it with a package named Numpy. Our task is to create a python array(which is similar to lists that you studied in previous part of notebook), which has 100 elements, all with a value of 1."
      ]
    },
    {
      "cell_type": "code",
      "execution_count": null,
      "id": "0b537e1d",
      "metadata": {
        "colab": {
          "base_uri": "https://localhost:8080/"
        },
        "id": "0b537e1d",
        "outputId": "80023024-1c38-4dfe-a385-f236342cddd9"
      },
      "outputs": [
        {
          "name": "stdout",
          "output_type": "stream",
          "text": [
            "[1, 1, 1, 1, 1, 1, 1, 1, 1, 1, 1, 1, 1, 1, 1, 1, 1, 1, 1, 1, 1, 1, 1, 1, 1, 1, 1, 1, 1, 1, 1, 1, 1, 1, 1, 1, 1, 1, 1, 1, 1, 1, 1, 1, 1, 1, 1, 1, 1, 1, 1, 1, 1, 1, 1, 1, 1, 1, 1, 1, 1, 1, 1, 1, 1, 1, 1, 1, 1, 1, 1, 1, 1, 1, 1, 1, 1, 1, 1, 1, 1, 1, 1, 1, 1, 1, 1, 1, 1, 1, 1, 1, 1, 1, 1, 1, 1, 1, 1, 1]\n",
            "100\n",
            "[1. 1. 1. 1. 1. 1. 1. 1. 1. 1. 1. 1. 1. 1. 1. 1. 1. 1. 1. 1. 1. 1. 1. 1.\n",
            " 1. 1. 1. 1. 1. 1. 1. 1. 1. 1. 1. 1. 1. 1. 1. 1. 1. 1. 1. 1. 1. 1. 1. 1.\n",
            " 1. 1. 1. 1. 1. 1. 1. 1. 1. 1. 1. 1. 1. 1. 1. 1. 1. 1. 1. 1. 1. 1. 1. 1.\n",
            " 1. 1. 1. 1. 1. 1. 1. 1. 1. 1. 1. 1. 1. 1. 1. 1. 1. 1. 1. 1. 1. 1. 1. 1.\n",
            " 1. 1. 1. 1.]\n",
            "100\n"
          ]
        }
      ],
      "source": [
        "# Method 1: array1 = [1,1,1,1,1,...1]  You manually type 1 for 100 times\n",
        "\n",
        "# Method 2: \n",
        "array1 = []\n",
        "for i in range(1,101):\n",
        "    array1.append(1)\n",
        "print(array1)\n",
        "print(len(array1))\n",
        "\n",
        "# Method 3: Using Python Packages\n",
        "\n",
        "import numpy as np\n",
        "array2 = np.ones(100)\n",
        "print(array2)\n",
        "print(len(array2))"
      ]
    },
    {
      "cell_type": "markdown",
      "id": "55b9b17d",
      "metadata": {
        "id": "55b9b17d"
      },
      "source": [
        "## How are they useful and make code efficient?\n",
        "\n",
        "Did you just see that?\n",
        "\n",
        "We defined 3 methods to solve our task, and when we used python package named numpy, we literally did our job in one line! Cool, isn't it? \n",
        "\n",
        "Let's see what exactly happened. So the package we used here was **Numpy**, there is a module in numpy called **ones()** which helps us generate array with 1 in it, so we directly used **ones()** and mentioned 100 as our parameter, which gave a resultant array with 100 1s in it.\n",
        "\n",
        "Observe how tedious it would be to do this manually. This is just one of the many things that we could do in a very efficient way. \n",
        "\n",
        "You would be dealing with more such modules in your Bootcamp sessions, so keep observing how our job is made because of these packages. A few popular names that you would come accross is Pandas, Numpy, OpenCV, NLTK, Matplotlib, Tensorflow etc. \n",
        "\n",
        "\n",
        "#### Challenge task \n",
        "***Try importing Pandas and NLTK and use any module from these packages.***"
      ]
    },
    {
      "cell_type": "code",
      "execution_count": null,
      "id": "f1b8b114",
      "metadata": {
        "id": "f1b8b114"
      },
      "outputs": [],
      "source": []
    }
  ],
  "metadata": {
    "colab": {
      "collapsed_sections": [],
      "provenance": [],
      "include_colab_link": true
    },
    "kernelspec": {
      "display_name": "Python 3 (ipykernel)",
      "language": "python",
      "name": "python3"
    },
    "language_info": {
      "codemirror_mode": {
        "name": "ipython",
        "version": 3
      },
      "file_extension": ".py",
      "mimetype": "text/x-python",
      "name": "python",
      "nbconvert_exporter": "python",
      "pygments_lexer": "ipython3",
      "version": "3.9.7"
    }
  },
  "nbformat": 4,
  "nbformat_minor": 5
}